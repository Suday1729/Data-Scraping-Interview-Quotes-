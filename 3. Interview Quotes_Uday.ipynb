{
 "cells": [
  {
   "cell_type": "code",
   "execution_count": 2,
   "id": "3c934f33",
   "metadata": {},
   "outputs": [],
   "source": [
    "url = 'https://devtomanager.com/interviews/'"
   ]
  },
  {
   "cell_type": "code",
   "execution_count": 3,
   "id": "d926ed20",
   "metadata": {},
   "outputs": [],
   "source": [
    "from bs4 import BeautifulSoup\n",
    "import requests"
   ]
  },
  {
   "cell_type": "code",
   "execution_count": 4,
   "id": "20edacaa",
   "metadata": {},
   "outputs": [
    {
     "data": {
      "text/plain": [
       "'<!DOCTYPE html>\\n<html lang=\"en-US\">\\n    <head>\\n        <title>\\nInterviews with Software Managers | Developer to Manager\\n</title>\\n\\n        <meta charset=\"utf-8\">\\n        <meta name=\"viewport\" content=\"width=device-width, initial-scale=1.0, shrink-to-fit=no\">\\n\\n        <meta name=\"author\" content=\"Siddhant Goel\">\\n        <meta name=\"keywords\" content=\"career, development, engineering-management, knowledge, leadership, management, platform, software\">\\n\\n        \\n<meta name=\"description\" content=\"At Developer to Manager, we regularly interview software engineering managers on how they approach management and leadership.\">\\n\\n\\n        \\n<meta name=\"twitter:card\" content=\"summary\">\\n<meta name=\"twitter:title\" content=\"Interviews with Software Managers | Developer to Manager\">\\n<meta name=\"twitter:description\" content=\"About transitioning from development to management\">\\n<meta name=\"twitter:site\" content=\"@devtomanager\">\\n<meta name=\"twitter:image\" content=\"https://devtomanager.com/static/images/logo-wide.png\"/>\\n\\n\\n        <meta property=\"og:url\" content=\"https://devtomanager.com/interviews/page/1/\"/>\\n        \\n<meta property=\"og:title\" content=\"Interviews with Software Managers | Developer to Manager\"/>\\n<meta property=\"og:description\" content=\"About transitioning from development to management\"/>\\n<meta property=\"og:image\" content=\"https://devtomanager.com/static/images/logo-wide.png\"/>\\n\\n\\n        \\n        <link rel=\"canonical\" href=\"https://devtomanager.com/interviews/page/1/\">\\n        \\n\\n        <link rel=\"apple-touch-icon\" sizes=\"180x180\"\\n              href=\"/static/images/apple-touch-icon.png\">\\n        <link rel=\"icon\" type=\"image/png\" sizes=\"32x32\"\\n              href=\"/static/images/favicon-32x32.png\">\\n        <link rel=\"icon\" type=\"image/png\" sizes=\"16x16\"\\n              href=\"/static/images/favicon-16x16.png\">\\n        <link rel=\"manifest\" href=\"/static/images/site.webmanifest\">\\n        <link rel=\"shortcut icon\" type=\"image/x-icon\"\\n              href=\"/static/images/favicon.ico\">\\n\\n        <link rel=\"me\" href=\"https://twitter.com/devtomanager\">\\n        <link rel=\"alternate\" type=\"application/atom+xml\"\\n              href=\"/interviews/atom.xml\">\\n\\n        <link rel=\"stylesheet\" type=\"text/css\"\\n              href=\"/static/css/app.css\">\\n    </head>\\n    <body class=\"bg-light\">\\n        <div class=\"container\">\\n    <div class=\"row\">\\n        <div class=\"col border-bottom\">\\n            <nav class=\"navbar navbar-light navbar-expand-lg\" role=\"navigation\">\\n                <a class=\"navbar-brand\" href=\"/\">\\n                    <img src=\"/static/images/logo.png\"\\n                         alt=\"Developer to Manager\"\\n                         width=\"64\" height=\"64\">\\n                </a>\\n\\n                <button class=\"navbar-toggler\"\\n                        type=\"button\"\\n                        data-toggle=\"collapse\"\\n                        data-target=\"#navbar-menu\"\\n                        aria-controls=\"#navbar-menu\"\\n                        aria-expanded=\"false\"\\n                        aria-label=\"Toggle navigation\">\\n                    <span class=\"navbar-toggler-icon\"></span>\\n                </button>\\n\\n                <div class=\"collapse navbar-collapse\" id=\"navbar-menu\">\\n                    <span class=\"navbar-text\">\\n                        <a href=\"/\">\\n                            <span class=\"h4\">Developer to Manager</span>\\n                        </a>\\n                    </span>\\n\\n                    <ul class=\"navbar-nav ml-auto\">\\n                        <li class=\"nav-item\">\\n                            <a class=\"nav-link\" href=\"/interviews/\">\\n                                All Interviews 🎙️\\n                            </a>\\n                        </li>\\n\\n                        <li class=\"nav-item\">\\n                            <a class=\"nav-link\" href=\"/blog/\">\\n                                Blog 📑\\n                            </a>\\n                        </li>\\n\\n                        <li class=\"nav-item\">\\n                            <a class=\"nav-link\" href=\"https://liberapay.com/devtomanager/donate\" target=\"_blank\">\\n                                Support us! 🙏\\n                            </a>\\n                        </li>\\n\\n                        <li class=\"nav-item dropdown\">\\n                            <a class=\"nav-link dropdown-toggle\"\\n                               href=\"#\"\\n                               data-toggle=\"dropdown\"\\n                               role=\"button\"\\n                               aria-haspopup=\"true\"\\n                               aria-expanded=\"false\">\\n                                More\\n                            </a>\\n\\n                            <div class=\"dropdown-menu dropdown-menu-right\">\\n                                <a class=\"dropdown-item\" href=\"/about/\">\\n                                    About\\n                                </a>\\n                                <a class=\"dropdown-item\" href=\"mailto:hello@devtomanager.com?subject=Hello!\">\\n                                    Contact\\n                                </a>\\n                                <a class=\"dropdown-item\" href=\"/impressum/\">\\n                                    Impressum\\n                                </a>\\n                            </div>\\n                        </li>\\n                    </ul>\\n                </div>\\n            </nav>\\n        </div>\\n    </div>\\n</div>\\n\\n        <div class=\"container\">\\n            <div class=\"row mb-3\">\\n                <div class=\"col-sm-12 col-lg-8 offset-lg-2\">\\n                    \\n<div class=\"row mt-5\">\\n    <div class=\"col\">\\n        <p class=\"text-right\">\\n    <a href=\"https://devtomanager.typeform.com/to/uHf6jo\"\\n       target=\"_blank\"\\n       class=\"text-reset font-weight-bold\">\\n        Submit your interview\\n        <i class=\"icon-add-circle-outline mr-1\"></i>\\n    </a>\\n</p>\\n    </div>\\n</div>\\n\\n<div class=\"row mt-3\">\\n    <div class=\"col\">\\n        <h1 class=\"text-center\">Interviews with Software Managers</h1>\\n        <h4 class=\"text-center\">About transitioning from development to management</h4>\\n    </div>\\n</div>\\n\\n<div class=\"row mt-5\">\\n    <div class=\"col text-center\">\\n        \\n<span class=\"mr-2\">\\n    <a class=\"text-reset\" href=\"/interviews/tag/coaching/\">\\n        #coaching\\n    </a>\\n</span>\\n\\n<span class=\"mr-2\">\\n    <a class=\"text-reset\" href=\"/interviews/tag/frontend/\">\\n        #frontend\\n    </a>\\n</span>\\n\\n<span class=\"mr-2\">\\n    <a class=\"text-reset\" href=\"/interviews/tag/product/\">\\n        #product\\n    </a>\\n</span>\\n\\n<span class=\"mr-2\">\\n    <a class=\"text-reset\" href=\"/interviews/tag/self-taught/\">\\n        #self-taught\\n    </a>\\n</span>\\n\\n<span class=\"mr-2\">\\n    <a class=\"text-reset\" href=\"/interviews/tag/startup/\">\\n        #startup\\n    </a>\\n</span>\\n\\n<span class=\"mr-2\">\\n    <a class=\"text-reset\" href=\"/interviews/tag/web/\">\\n        #web\\n    </a>\\n</span>\\n\\n    </div>\\n</div>\\n\\n\\n<div class=\"row mt-5\">\\n    <div class=\"col\">\\n        <div class=\"card bg-light border-0\">\\n    <div class=\"row no-gutters\">\\n        <div class=\"col-md-4 text-center\">\\n            <a href=\"/interviews/aviv-ben-yosef/\">\\n                <figure class=\"figure\">\\n                    <img src=\"/static/images/interviews/aviv-ben-yosef.png\"\\n                         class=\"figure-img img-fluid img-thumbnail rounded-circle\"\\n                         alt=\"Aviv Ben-Yosef, Tech Executive Consultant\"\\n                         width=\"200\" height=\"200\">\\n                </figure>\\n            </a>\\n        </div>\\n        <div class=\"col-md-8\">\\n            <div class=\"card-body\">\\n                <h5 class=\"card-title\">\\n                    <a href=\"/interviews/aviv-ben-yosef/\"\\n                       class=\"text-reset\">\\n                        Aviv Ben-Yosef, Tech Executive Consultant\\n                    </a>\\n                </h5>\\n                <p class=\"card-text\">\\n                “I want to set up managers to succeed, no matter how much background they’ve already got.”\\n                </p>\\n                <p class=\"card-text\">\\n                    August 16, 2021\\n                    ·\\n                    \\n                    <strong class=\"mr-2\">\\n                        <a class=\"text-reset\" href=\"/interviews/tag/coaching/\">\\n                            #coaching\\n                        </a>\\n                    </strong>\\n                    \\n                    <strong class=\"mr-2\">\\n                        <a class=\"text-reset\" href=\"/interviews/tag/consulting/\">\\n                            #consulting\\n                        </a>\\n                    </strong>\\n                    \\n                </p>\\n            </div>\\n        </div>\\n    </div>\\n</div>\\n    </div>\\n</div>\\n\\n<div class=\"row mt-5\">\\n    <div class=\"col\">\\n        <div class=\"card bg-light border-0\">\\n    <div class=\"row no-gutters\">\\n        <div class=\"col-md-4 text-center\">\\n            <a href=\"/interviews/anand-safi/\">\\n                <figure class=\"figure\">\\n                    <img src=\"/static/images/interviews/anand-safi.png\"\\n                         class=\"figure-img img-fluid img-thumbnail rounded-circle\"\\n                         alt=\"Anand Safi, Engineering Manager at Mark43\"\\n                         width=\"200\" height=\"200\">\\n                </figure>\\n            </a>\\n        </div>\\n        <div class=\"col-md-8\">\\n            <div class=\"card-body\">\\n                <h5 class=\"card-title\">\\n                    <a href=\"/interviews/anand-safi/\"\\n                       class=\"text-reset\">\\n                        Anand Safi, Engineering Manager at Mark43\\n                    </a>\\n                </h5>\\n                <p class=\"card-text\">\\n                “I very well understand where my interests lie, which is being an enabler first and then a creator rather than being a creator/ maker 100%.”\\n                </p>\\n                <p class=\"card-text\">\\n                    July 19, 2021\\n                    ·\\n                    \\n                    <strong class=\"mr-2\">\\n                        <a class=\"text-reset\" href=\"/interviews/tag/coaching/\">\\n                            #coaching\\n                        </a>\\n                    </strong>\\n                    \\n                    <strong class=\"mr-2\">\\n                        <a class=\"text-reset\" href=\"/interviews/tag/frontend/\">\\n                            #frontend\\n                        </a>\\n                    </strong>\\n                    \\n                    <strong class=\"mr-2\">\\n                        <a class=\"text-reset\" href=\"/interviews/tag/full-stack/\">\\n                            #full-stack\\n                        </a>\\n                    </strong>\\n                    \\n                    <strong class=\"mr-2\">\\n                        <a class=\"text-reset\" href=\"/interviews/tag/public-safety/\">\\n                            #public-safety\\n                        </a>\\n                    </strong>\\n                    \\n                </p>\\n            </div>\\n        </div>\\n    </div>\\n</div>\\n    </div>\\n</div>\\n\\n<div class=\"row mt-5\">\\n    <div class=\"col\">\\n        <div class=\"card bg-light border-0\">\\n    <div class=\"row no-gutters\">\\n        <div class=\"col-md-4 text-center\">\\n            <a href=\"/interviews/shawn-axsom/\">\\n                <figure class=\"figure\">\\n                    <img src=\"/static/images/interviews/shawn-axsom.png\"\\n                         class=\"figure-img img-fluid img-thumbnail rounded-circle\"\\n                         alt=\"Shawn Axsom, Senior Engineering Manager at Docker\"\\n                         width=\"200\" height=\"200\">\\n                </figure>\\n            </a>\\n        </div>\\n        <div class=\"col-md-8\">\\n            <div class=\"card-body\">\\n                <h5 class=\"card-title\">\\n                    <a href=\"/interviews/shawn-axsom/\"\\n                       class=\"text-reset\">\\n                        Shawn Axsom, Senior Engineering Manager at Docker\\n                    </a>\\n                </h5>\\n                <p class=\"card-text\">\\n                “Your focus (and challenges) grows from your direct reports, to teams, to departments, executives, and then external customers and partnerships.”\\n                </p>\\n                <p class=\"card-text\">\\n                    July 05, 2021\\n                    ·\\n                    \\n                    <strong class=\"mr-2\">\\n                        <a class=\"text-reset\" href=\"/interviews/tag/backend/\">\\n                            #backend\\n                        </a>\\n                    </strong>\\n                    \\n                    <strong class=\"mr-2\">\\n                        <a class=\"text-reset\" href=\"/interviews/tag/coaching/\">\\n                            #coaching\\n                        </a>\\n                    </strong>\\n                    \\n                    <strong class=\"mr-2\">\\n                        <a class=\"text-reset\" href=\"/interviews/tag/information-systems/\">\\n                            #information-systems\\n                        </a>\\n                    </strong>\\n                    \\n                    <strong class=\"mr-2\">\\n                        <a class=\"text-reset\" href=\"/interviews/tag/web/\">\\n                            #web\\n                        </a>\\n                    </strong>\\n                    \\n                </p>\\n            </div>\\n        </div>\\n    </div>\\n</div>\\n    </div>\\n</div>\\n\\n<div class=\"row mt-5\">\\n    <div class=\"col\">\\n        <div class=\"card bg-light border-0\">\\n    <div class=\"row no-gutters\">\\n        <div class=\"col-md-4 text-center\">\\n            <a href=\"/interviews/kevin-doyle/\">\\n                <figure class=\"figure\">\\n                    <img src=\"/static/images/interviews/kevin-doyle.png\"\\n                         class=\"figure-img img-fluid img-thumbnail rounded-circle\"\\n                         alt=\"Kevin Doyle, CTO at patientMpower\"\\n                         width=\"200\" height=\"200\">\\n                </figure>\\n            </a>\\n        </div>\\n        <div class=\"col-md-8\">\\n            <div class=\"card-body\">\\n                <h5 class=\"card-title\">\\n                    <a href=\"/interviews/kevin-doyle/\"\\n                       class=\"text-reset\">\\n                        Kevin Doyle, CTO at patientMpower\\n                    </a>\\n                </h5>\\n                <p class=\"card-text\">\\n                “If I can provide enough direction to allow people to focus on the jobs they’ll do better than I ever could, everybody wins.”\\n                </p>\\n                <p class=\"card-text\">\\n                    June 21, 2021\\n                    ·\\n                    \\n                    <strong class=\"mr-2\">\\n                        <a class=\"text-reset\" href=\"/interviews/tag/full-stack/\">\\n                            #full-stack\\n                        </a>\\n                    </strong>\\n                    \\n                    <strong class=\"mr-2\">\\n                        <a class=\"text-reset\" href=\"/interviews/tag/health-tech/\">\\n                            #health-tech\\n                        </a>\\n                    </strong>\\n                    \\n                </p>\\n            </div>\\n        </div>\\n    </div>\\n</div>\\n    </div>\\n</div>\\n\\n<div class=\"row mt-5\">\\n    <div class=\"col\">\\n        <div class=\"card bg-light border-0\">\\n    <div class=\"row no-gutters\">\\n        <div class=\"col-md-4 text-center\">\\n            <a href=\"/interviews/arnab-sen/\">\\n                <figure class=\"figure\">\\n                    <img src=\"/static/images/interviews/arnab-sen.png\"\\n                         class=\"figure-img img-fluid img-thumbnail rounded-circle\"\\n                         alt=\"Arnab Sen, Technical Delivery Manager at AKQA\"\\n                         width=\"200\" height=\"200\">\\n                </figure>\\n            </a>\\n        </div>\\n        <div class=\"col-md-8\">\\n            <div class=\"card-body\">\\n                <h5 class=\"card-title\">\\n                    <a href=\"/interviews/arnab-sen/\"\\n                       class=\"text-reset\">\\n                        Arnab Sen, Technical Delivery Manager at AKQA\\n                    </a>\\n                </h5>\\n                <p class=\"card-text\">\\n                “The switch to management can be highly rewarding and provide a level of independence, authority, and interactivity that a pure software engineering role may not offer.”\\n                </p>\\n                <p class=\"card-text\">\\n                    May 10, 2021\\n                    ·\\n                    \\n                    <strong class=\"mr-2\">\\n                        <a class=\"text-reset\" href=\"/interviews/tag/consulting/\">\\n                            #consulting\\n                        </a>\\n                    </strong>\\n                    \\n                    <strong class=\"mr-2\">\\n                        <a class=\"text-reset\" href=\"/interviews/tag/digital-marketing/\">\\n                            #digital-marketing\\n                        </a>\\n                    </strong>\\n                    \\n                    <strong class=\"mr-2\">\\n                        <a class=\"text-reset\" href=\"/interviews/tag/e-commerce/\">\\n                            #e-commerce\\n                        </a>\\n                    </strong>\\n                    \\n                    <strong class=\"mr-2\">\\n                        <a class=\"text-reset\" href=\"/interviews/tag/product/\">\\n                            #product\\n                        </a>\\n                    </strong>\\n                    \\n                </p>\\n            </div>\\n        </div>\\n    </div>\\n</div>\\n    </div>\\n</div>\\n\\n\\n<div class=\"row mt-5\">\\n    <div class=\"col text-left\">\\n        \\n    </div>\\n\\n    <div class=\"col text-right\">\\n        \\n        <a href=\"/interviews/page/2/\" class=\"text-reset font-weight-bold\">\\n            Older\\n            <i class=\"icon-arrow-forward-circle-outline\"></i>\\n        </a>\\n        \\n    </div>\\n</div>\\n\\n<div class=\"row mt-5\">\\n    <div class=\"col\">\\n        <div class=\"row text-center\">\\n    <div class=\"container\">\\n        <div class=\"row\">\\n            <div class=\"col\">\\n                Join <mark>thousands</mark> of other subscribers receiving updates\\n                <mark>every 2 weeks</mark>!\\n            </div>\\n        </div>\\n\\n        <div class=\"row\">\\n            <div class=\"col-6 offset-3\">\\n                <div class=\"emailoctopus-form-wrapper emailoctopus-form-default null\">\\n                    <form action=\"https://emailoctopus.com/lists/f17f7f51-575e-11eb-a3d0-06b4694bee2a/members/embedded/1.3s/add\"\\n                          method=\"post\"\\n                          data-message-success=\"Thanks for subscribing!\"\\n                          data-message-missing-email-address=\"Your email address is required.\"\\n                          data-message-invalid-email-address=\"Your email address looks incorrect, please try again.\"\\n                          data-message-bot-submission-error=\"This doesn\\'t look like a human submission.\"\\n                          data-message-consent-required=\"Please check the checkbox to indicate your consent.\"\\n                          data-message-invalid-parameters-error=\"This form has missing or invalid fields.\"\\n                          data-message-unknown-error=\"Sorry, an unknown error has occurred. Please try again later.\"\\n                          data-sitekey=\"6LdYsmsUAAAAAPXVTt-ovRsPIJ_IVhvYBBhGvRV6\"\\n                          class=\"emailoctopus-form form\">\\n\\n                        <p class=\"emailoctopus-success-message\"></p>\\n                        <p class=\"emailoctopus-error-message\"></p>\\n\\n                        <input type=\"hidden\"\\n                               name=\"successRedirectUrl\"\\n                               value=\"https://devtomanager.com/thank-you/\">\\n\\n                        <div class=\"input-group mb-2\">\\n                            <div class=\"input-group-prepend\">\\n                                <div class=\"input-group-text\">\\n                                    <i class=\"icon-mail\"></i>\\n                                </div>\\n                            </div>\\n\\n                            <input id=\"field_0\"\\n                                   class=\"form-control\"\\n                                   name=\"field_0\"\\n                                   type=\"email\"\\n                                   placeholder=\"email@example.com\"\\n                                   required>\\n\\n                            <div class=\"input-group-append\">\\n                                <button class=\"btn btn btn-dark\" type=\"submit\">\\n                                    Join!\\n                                </button>\\n                            </div>\\n                        </div>\\n\\n                        <div class=\"emailoctopus-form-row-consent custom-control custom-switch\">\\n                            <input type=\"checkbox\"\\n                                   class=\"custom-control-input\"\\n                                   id=\"consent\"\\n                                   name=\"consent\"\\n                                   required>\\n                            <label for=\"consent\" class=\"custom-control-label\">\\n                                Yes, sign me up!\\n                            </label>\\n                        </div>\\n\\n                        <div class=\"emailoctopus-form-row-hp d-none\" aria-hidden=\"true\">\\n                            <input type=\"text\"\\n                                   name=\"hpc4b27b6e-eb38-11e9-be00-06b4694bee2a\"\\n                                   tabindex=\"-1\"\\n                                   autocomplete=\"nope\">\\n                        </div>\\n                    </form>\\n                </div>\\n            </div>\\n        </div>\\n    </div>\\n</div>\\n    </div>\\n</div>\\n\\n                </div>\\n            </div>\\n        </div>\\n\\n        <div class=\"container border-top\">\\n    <div class=\"row mt-3 mb-3\">\\n        <div class=\"col\">\\n            © Developer to Manager 2018 - 2021\\n\\n            <a class=\"btn\"\\n               href=\"https://twitter.com/devtomanager\"\\n               target=\"_blank\">\\n                <i class=\"icon-logo-twitter\"></i>\\n            </a>\\n\\n            <a class=\"btn\"\\n               href=\"https://www.linkedin.com/company/developer-to-manager\"\\n               target=\"_blank\">\\n                <i class=\"icon-logo-linkedin\"></i>\\n            </a>\\n        </div>\\n\\n        <div class=\"col text-right\">\\n            <span>Crafted with ♥️ in Munich</span>\\n        </div>\\n    </div>\\n</div>\\n\\n        \\n        <script async data-domain=\"devtomanager.com\" src=\"https://plausible.io/js/plausible.js\">\\n        </script>\\n        \\n\\n        <script async src=\"/static/js/app.js\"></script>\\n\\n        <script async src=\"https://emailoctopus.com/bundles/emailoctopuslist/js/1.6/form-recaptcha.js\"></script>\\n        <script async src=\"https://emailoctopus.com/bundles/emailoctopuslist/js/1.6/form-embed.js\"></script>\\n    </body>\\n</html>'"
      ]
     },
     "execution_count": 4,
     "metadata": {},
     "output_type": "execute_result"
    }
   ],
   "source": [
    "html_intw = requests.get(url).text\n",
    "html_intw"
   ]
  },
  {
   "cell_type": "code",
   "execution_count": 5,
   "id": "d530bf2a",
   "metadata": {},
   "outputs": [],
   "source": [
    "soup = BeautifulSoup(html_intw, \"html.parser\")"
   ]
  },
  {
   "cell_type": "code",
   "execution_count": 6,
   "id": "0e40f7ff",
   "metadata": {},
   "outputs": [
    {
     "name": "stdout",
     "output_type": "stream",
     "text": [
      "<!DOCTYPE html>\n",
      "\n",
      "<html lang=\"en-US\">\n",
      "<head>\n",
      "<title>\n",
      "Interviews with Software Managers | Developer to Manager\n",
      "</title>\n",
      "<meta charset=\"utf-8\"/>\n",
      "<meta content=\"width=device-width, initial-scale=1.0, shrink-to-fit=no\" name=\"viewport\"/>\n",
      "<meta content=\"Siddhant Goel\" name=\"author\"/>\n",
      "<meta content=\"career, development, engineering-management, knowledge, leadership, management, platform, software\" name=\"keywords\"/>\n",
      "<meta content=\"At Developer to Manager, we regularly interview software engineering managers on how they approach management and leadership.\" name=\"description\"/>\n",
      "<meta content=\"summary\" name=\"twitter:card\"/>\n",
      "<meta content=\"Interviews with Software Managers | Developer to Manager\" name=\"twitter:title\"/>\n",
      "<meta content=\"About transitioning from development to management\" name=\"twitter:description\"/>\n",
      "<meta content=\"@devtomanager\" name=\"twitter:site\"/>\n",
      "<meta content=\"https://devtomanager.com/static/images/logo-wide.png\" name=\"twitter:image\">\n",
      "<meta content=\"https://devtomanager.com/interviews/page/1/\" property=\"og:url\">\n",
      "<meta content=\"Interviews with Software Managers | Developer to Manager\" property=\"og:title\">\n",
      "<meta content=\"About transitioning from development to management\" property=\"og:description\">\n",
      "<meta content=\"https://devtomanager.com/static/images/logo-wide.png\" property=\"og:image\">\n",
      "<link href=\"https://devtomanager.com/interviews/page/1/\" rel=\"canonical\"/>\n",
      "<link href=\"/static/images/apple-touch-icon.png\" rel=\"apple-touch-icon\" sizes=\"180x180\"/>\n",
      "<link href=\"/static/images/favicon-32x32.png\" rel=\"icon\" sizes=\"32x32\" type=\"image/png\"/>\n",
      "<link href=\"/static/images/favicon-16x16.png\" rel=\"icon\" sizes=\"16x16\" type=\"image/png\"/>\n",
      "<link href=\"/static/images/site.webmanifest\" rel=\"manifest\"/>\n",
      "<link href=\"/static/images/favicon.ico\" rel=\"shortcut icon\" type=\"image/x-icon\"/>\n",
      "<link href=\"https://twitter.com/devtomanager\" rel=\"me\"/>\n",
      "<link href=\"/interviews/atom.xml\" rel=\"alternate\" type=\"application/atom+xml\"/>\n",
      "<link href=\"/static/css/app.css\" rel=\"stylesheet\" type=\"text/css\"/>\n",
      "</meta></meta></meta></meta></meta></head>\n",
      "<body class=\"bg-light\">\n",
      "<div class=\"container\">\n",
      "<div class=\"row\">\n",
      "<div class=\"col border-bottom\">\n",
      "<nav class=\"navbar navbar-light navbar-expand-lg\" role=\"navigation\">\n",
      "<a class=\"navbar-brand\" href=\"/\">\n",
      "<img alt=\"Developer to Manager\" height=\"64\" src=\"/static/images/logo.png\" width=\"64\"/>\n",
      "</a>\n",
      "<button aria-controls=\"#navbar-menu\" aria-expanded=\"false\" aria-label=\"Toggle navigation\" class=\"navbar-toggler\" data-target=\"#navbar-menu\" data-toggle=\"collapse\" type=\"button\">\n",
      "<span class=\"navbar-toggler-icon\"></span>\n",
      "</button>\n",
      "<div class=\"collapse navbar-collapse\" id=\"navbar-menu\">\n",
      "<span class=\"navbar-text\">\n",
      "<a href=\"/\">\n",
      "<span class=\"h4\">Developer to Manager</span>\n",
      "</a>\n",
      "</span>\n",
      "<ul class=\"navbar-nav ml-auto\">\n",
      "<li class=\"nav-item\">\n",
      "<a class=\"nav-link\" href=\"/interviews/\">\n",
      "                                All Interviews 🎙️\n",
      "                            </a>\n",
      "</li>\n",
      "<li class=\"nav-item\">\n",
      "<a class=\"nav-link\" href=\"/blog/\">\n",
      "                                Blog 📑\n",
      "                            </a>\n",
      "</li>\n",
      "<li class=\"nav-item\">\n",
      "<a class=\"nav-link\" href=\"https://liberapay.com/devtomanager/donate\" target=\"_blank\">\n",
      "                                Support us! 🙏\n",
      "                            </a>\n",
      "</li>\n",
      "<li class=\"nav-item dropdown\">\n",
      "<a aria-expanded=\"false\" aria-haspopup=\"true\" class=\"nav-link dropdown-toggle\" data-toggle=\"dropdown\" href=\"#\" role=\"button\">\n",
      "                                More\n",
      "                            </a>\n",
      "<div class=\"dropdown-menu dropdown-menu-right\">\n",
      "<a class=\"dropdown-item\" href=\"/about/\">\n",
      "                                    About\n",
      "                                </a>\n",
      "<a class=\"dropdown-item\" href=\"mailto:hello@devtomanager.com?subject=Hello!\">\n",
      "                                    Contact\n",
      "                                </a>\n",
      "<a class=\"dropdown-item\" href=\"/impressum/\">\n",
      "                                    Impressum\n",
      "                                </a>\n",
      "</div>\n",
      "</li>\n",
      "</ul>\n",
      "</div>\n",
      "</nav>\n",
      "</div>\n",
      "</div>\n",
      "</div>\n",
      "<div class=\"container\">\n",
      "<div class=\"row mb-3\">\n",
      "<div class=\"col-sm-12 col-lg-8 offset-lg-2\">\n",
      "<div class=\"row mt-5\">\n",
      "<div class=\"col\">\n",
      "<p class=\"text-right\">\n",
      "<a class=\"text-reset font-weight-bold\" href=\"https://devtomanager.typeform.com/to/uHf6jo\" target=\"_blank\">\n",
      "        Submit your interview\n",
      "        <i class=\"icon-add-circle-outline mr-1\"></i>\n",
      "</a>\n",
      "</p>\n",
      "</div>\n",
      "</div>\n",
      "<div class=\"row mt-3\">\n",
      "<div class=\"col\">\n",
      "<h1 class=\"text-center\">Interviews with Software Managers</h1>\n",
      "<h4 class=\"text-center\">About transitioning from development to management</h4>\n",
      "</div>\n",
      "</div>\n",
      "<div class=\"row mt-5\">\n",
      "<div class=\"col text-center\">\n",
      "<span class=\"mr-2\">\n",
      "<a class=\"text-reset\" href=\"/interviews/tag/coaching/\">\n",
      "        #coaching\n",
      "    </a>\n",
      "</span>\n",
      "<span class=\"mr-2\">\n",
      "<a class=\"text-reset\" href=\"/interviews/tag/frontend/\">\n",
      "        #frontend\n",
      "    </a>\n",
      "</span>\n",
      "<span class=\"mr-2\">\n",
      "<a class=\"text-reset\" href=\"/interviews/tag/product/\">\n",
      "        #product\n",
      "    </a>\n",
      "</span>\n",
      "<span class=\"mr-2\">\n",
      "<a class=\"text-reset\" href=\"/interviews/tag/self-taught/\">\n",
      "        #self-taught\n",
      "    </a>\n",
      "</span>\n",
      "<span class=\"mr-2\">\n",
      "<a class=\"text-reset\" href=\"/interviews/tag/startup/\">\n",
      "        #startup\n",
      "    </a>\n",
      "</span>\n",
      "<span class=\"mr-2\">\n",
      "<a class=\"text-reset\" href=\"/interviews/tag/web/\">\n",
      "        #web\n",
      "    </a>\n",
      "</span>\n",
      "</div>\n",
      "</div>\n",
      "<div class=\"row mt-5\">\n",
      "<div class=\"col\">\n",
      "<div class=\"card bg-light border-0\">\n",
      "<div class=\"row no-gutters\">\n",
      "<div class=\"col-md-4 text-center\">\n",
      "<a href=\"/interviews/aviv-ben-yosef/\">\n",
      "<figure class=\"figure\">\n",
      "<img alt=\"Aviv Ben-Yosef, Tech Executive Consultant\" class=\"figure-img img-fluid img-thumbnail rounded-circle\" height=\"200\" src=\"/static/images/interviews/aviv-ben-yosef.png\" width=\"200\"/>\n",
      "</figure>\n",
      "</a>\n",
      "</div>\n",
      "<div class=\"col-md-8\">\n",
      "<div class=\"card-body\">\n",
      "<h5 class=\"card-title\">\n",
      "<a class=\"text-reset\" href=\"/interviews/aviv-ben-yosef/\">\n",
      "                        Aviv Ben-Yosef, Tech Executive Consultant\n",
      "                    </a>\n",
      "</h5>\n",
      "<p class=\"card-text\">\n",
      "                “I want to set up managers to succeed, no matter how much background they’ve already got.”\n",
      "                </p>\n",
      "<p class=\"card-text\">\n",
      "                    August 16, 2021\n",
      "                    ·\n",
      "                    \n",
      "                    <strong class=\"mr-2\">\n",
      "<a class=\"text-reset\" href=\"/interviews/tag/coaching/\">\n",
      "                            #coaching\n",
      "                        </a>\n",
      "</strong>\n",
      "<strong class=\"mr-2\">\n",
      "<a class=\"text-reset\" href=\"/interviews/tag/consulting/\">\n",
      "                            #consulting\n",
      "                        </a>\n",
      "</strong>\n",
      "</p>\n",
      "</div>\n",
      "</div>\n",
      "</div>\n",
      "</div>\n",
      "</div>\n",
      "</div>\n",
      "<div class=\"row mt-5\">\n",
      "<div class=\"col\">\n",
      "<div class=\"card bg-light border-0\">\n",
      "<div class=\"row no-gutters\">\n",
      "<div class=\"col-md-4 text-center\">\n",
      "<a href=\"/interviews/anand-safi/\">\n",
      "<figure class=\"figure\">\n",
      "<img alt=\"Anand Safi, Engineering Manager at Mark43\" class=\"figure-img img-fluid img-thumbnail rounded-circle\" height=\"200\" src=\"/static/images/interviews/anand-safi.png\" width=\"200\"/>\n",
      "</figure>\n",
      "</a>\n",
      "</div>\n",
      "<div class=\"col-md-8\">\n",
      "<div class=\"card-body\">\n",
      "<h5 class=\"card-title\">\n",
      "<a class=\"text-reset\" href=\"/interviews/anand-safi/\">\n",
      "                        Anand Safi, Engineering Manager at Mark43\n",
      "                    </a>\n",
      "</h5>\n",
      "<p class=\"card-text\">\n",
      "                “I very well understand where my interests lie, which is being an enabler first and then a creator rather than being a creator/ maker 100%.”\n",
      "                </p>\n",
      "<p class=\"card-text\">\n",
      "                    July 19, 2021\n",
      "                    ·\n",
      "                    \n",
      "                    <strong class=\"mr-2\">\n",
      "<a class=\"text-reset\" href=\"/interviews/tag/coaching/\">\n",
      "                            #coaching\n",
      "                        </a>\n",
      "</strong>\n",
      "<strong class=\"mr-2\">\n",
      "<a class=\"text-reset\" href=\"/interviews/tag/frontend/\">\n",
      "                            #frontend\n",
      "                        </a>\n",
      "</strong>\n",
      "<strong class=\"mr-2\">\n",
      "<a class=\"text-reset\" href=\"/interviews/tag/full-stack/\">\n",
      "                            #full-stack\n",
      "                        </a>\n",
      "</strong>\n",
      "<strong class=\"mr-2\">\n",
      "<a class=\"text-reset\" href=\"/interviews/tag/public-safety/\">\n",
      "                            #public-safety\n",
      "                        </a>\n",
      "</strong>\n",
      "</p>\n",
      "</div>\n",
      "</div>\n",
      "</div>\n",
      "</div>\n",
      "</div>\n",
      "</div>\n",
      "<div class=\"row mt-5\">\n",
      "<div class=\"col\">\n",
      "<div class=\"card bg-light border-0\">\n",
      "<div class=\"row no-gutters\">\n",
      "<div class=\"col-md-4 text-center\">\n",
      "<a href=\"/interviews/shawn-axsom/\">\n",
      "<figure class=\"figure\">\n",
      "<img alt=\"Shawn Axsom, Senior Engineering Manager at Docker\" class=\"figure-img img-fluid img-thumbnail rounded-circle\" height=\"200\" src=\"/static/images/interviews/shawn-axsom.png\" width=\"200\"/>\n",
      "</figure>\n",
      "</a>\n",
      "</div>\n",
      "<div class=\"col-md-8\">\n",
      "<div class=\"card-body\">\n",
      "<h5 class=\"card-title\">\n",
      "<a class=\"text-reset\" href=\"/interviews/shawn-axsom/\">\n",
      "                        Shawn Axsom, Senior Engineering Manager at Docker\n",
      "                    </a>\n",
      "</h5>\n",
      "<p class=\"card-text\">\n",
      "                “Your focus (and challenges) grows from your direct reports, to teams, to departments, executives, and then external customers and partnerships.”\n",
      "                </p>\n",
      "<p class=\"card-text\">\n",
      "                    July 05, 2021\n",
      "                    ·\n",
      "                    \n",
      "                    <strong class=\"mr-2\">\n",
      "<a class=\"text-reset\" href=\"/interviews/tag/backend/\">\n",
      "                            #backend\n",
      "                        </a>\n",
      "</strong>\n",
      "<strong class=\"mr-2\">\n",
      "<a class=\"text-reset\" href=\"/interviews/tag/coaching/\">\n",
      "                            #coaching\n",
      "                        </a>\n",
      "</strong>\n",
      "<strong class=\"mr-2\">\n",
      "<a class=\"text-reset\" href=\"/interviews/tag/information-systems/\">\n",
      "                            #information-systems\n",
      "                        </a>\n",
      "</strong>\n",
      "<strong class=\"mr-2\">\n",
      "<a class=\"text-reset\" href=\"/interviews/tag/web/\">\n",
      "                            #web\n",
      "                        </a>\n",
      "</strong>\n",
      "</p>\n",
      "</div>\n",
      "</div>\n",
      "</div>\n",
      "</div>\n",
      "</div>\n",
      "</div>\n",
      "<div class=\"row mt-5\">\n",
      "<div class=\"col\">\n",
      "<div class=\"card bg-light border-0\">\n",
      "<div class=\"row no-gutters\">\n",
      "<div class=\"col-md-4 text-center\">\n",
      "<a href=\"/interviews/kevin-doyle/\">\n",
      "<figure class=\"figure\">\n",
      "<img alt=\"Kevin Doyle, CTO at patientMpower\" class=\"figure-img img-fluid img-thumbnail rounded-circle\" height=\"200\" src=\"/static/images/interviews/kevin-doyle.png\" width=\"200\"/>\n",
      "</figure>\n",
      "</a>\n",
      "</div>\n",
      "<div class=\"col-md-8\">\n",
      "<div class=\"card-body\">\n",
      "<h5 class=\"card-title\">\n",
      "<a class=\"text-reset\" href=\"/interviews/kevin-doyle/\">\n",
      "                        Kevin Doyle, CTO at patientMpower\n",
      "                    </a>\n",
      "</h5>\n",
      "<p class=\"card-text\">\n",
      "                “If I can provide enough direction to allow people to focus on the jobs they’ll do better than I ever could, everybody wins.”\n",
      "                </p>\n",
      "<p class=\"card-text\">\n",
      "                    June 21, 2021\n",
      "                    ·\n",
      "                    \n",
      "                    <strong class=\"mr-2\">\n",
      "<a class=\"text-reset\" href=\"/interviews/tag/full-stack/\">\n",
      "                            #full-stack\n",
      "                        </a>\n",
      "</strong>\n",
      "<strong class=\"mr-2\">\n",
      "<a class=\"text-reset\" href=\"/interviews/tag/health-tech/\">\n",
      "                            #health-tech\n",
      "                        </a>\n",
      "</strong>\n",
      "</p>\n",
      "</div>\n",
      "</div>\n",
      "</div>\n",
      "</div>\n",
      "</div>\n",
      "</div>\n",
      "<div class=\"row mt-5\">\n",
      "<div class=\"col\">\n",
      "<div class=\"card bg-light border-0\">\n",
      "<div class=\"row no-gutters\">\n",
      "<div class=\"col-md-4 text-center\">\n",
      "<a href=\"/interviews/arnab-sen/\">\n",
      "<figure class=\"figure\">\n",
      "<img alt=\"Arnab Sen, Technical Delivery Manager at AKQA\" class=\"figure-img img-fluid img-thumbnail rounded-circle\" height=\"200\" src=\"/static/images/interviews/arnab-sen.png\" width=\"200\"/>\n",
      "</figure>\n",
      "</a>\n",
      "</div>\n",
      "<div class=\"col-md-8\">\n",
      "<div class=\"card-body\">\n",
      "<h5 class=\"card-title\">\n",
      "<a class=\"text-reset\" href=\"/interviews/arnab-sen/\">\n",
      "                        Arnab Sen, Technical Delivery Manager at AKQA\n",
      "                    </a>\n",
      "</h5>\n",
      "<p class=\"card-text\">\n",
      "                “The switch to management can be highly rewarding and provide a level of independence, authority, and interactivity that a pure software engineering role may not offer.”\n",
      "                </p>\n",
      "<p class=\"card-text\">\n",
      "                    May 10, 2021\n",
      "                    ·\n",
      "                    \n",
      "                    <strong class=\"mr-2\">\n",
      "<a class=\"text-reset\" href=\"/interviews/tag/consulting/\">\n",
      "                            #consulting\n",
      "                        </a>\n",
      "</strong>\n",
      "<strong class=\"mr-2\">\n",
      "<a class=\"text-reset\" href=\"/interviews/tag/digital-marketing/\">\n",
      "                            #digital-marketing\n",
      "                        </a>\n",
      "</strong>\n",
      "<strong class=\"mr-2\">\n",
      "<a class=\"text-reset\" href=\"/interviews/tag/e-commerce/\">\n",
      "                            #e-commerce\n",
      "                        </a>\n",
      "</strong>\n",
      "<strong class=\"mr-2\">\n",
      "<a class=\"text-reset\" href=\"/interviews/tag/product/\">\n",
      "                            #product\n",
      "                        </a>\n",
      "</strong>\n",
      "</p>\n",
      "</div>\n",
      "</div>\n",
      "</div>\n",
      "</div>\n",
      "</div>\n",
      "</div>\n",
      "<div class=\"row mt-5\">\n",
      "<div class=\"col text-left\">\n",
      "</div>\n",
      "<div class=\"col text-right\">\n",
      "<a class=\"text-reset font-weight-bold\" href=\"/interviews/page/2/\">\n",
      "            Older\n",
      "            <i class=\"icon-arrow-forward-circle-outline\"></i>\n",
      "</a>\n",
      "</div>\n",
      "</div>\n",
      "<div class=\"row mt-5\">\n",
      "<div class=\"col\">\n",
      "<div class=\"row text-center\">\n",
      "<div class=\"container\">\n",
      "<div class=\"row\">\n",
      "<div class=\"col\">\n",
      "                Join <mark>thousands</mark> of other subscribers receiving updates\n",
      "                <mark>every 2 weeks</mark>!\n",
      "            </div>\n",
      "</div>\n",
      "<div class=\"row\">\n",
      "<div class=\"col-6 offset-3\">\n",
      "<div class=\"emailoctopus-form-wrapper emailoctopus-form-default null\">\n",
      "<form action=\"https://emailoctopus.com/lists/f17f7f51-575e-11eb-a3d0-06b4694bee2a/members/embedded/1.3s/add\" class=\"emailoctopus-form form\" data-message-bot-submission-error=\"This doesn't look like a human submission.\" data-message-consent-required=\"Please check the checkbox to indicate your consent.\" data-message-invalid-email-address=\"Your email address looks incorrect, please try again.\" data-message-invalid-parameters-error=\"This form has missing or invalid fields.\" data-message-missing-email-address=\"Your email address is required.\" data-message-success=\"Thanks for subscribing!\" data-message-unknown-error=\"Sorry, an unknown error has occurred. Please try again later.\" data-sitekey=\"6LdYsmsUAAAAAPXVTt-ovRsPIJ_IVhvYBBhGvRV6\" method=\"post\">\n",
      "<p class=\"emailoctopus-success-message\"></p>\n",
      "<p class=\"emailoctopus-error-message\"></p>\n",
      "<input name=\"successRedirectUrl\" type=\"hidden\" value=\"https://devtomanager.com/thank-you/\"/>\n",
      "<div class=\"input-group mb-2\">\n",
      "<div class=\"input-group-prepend\">\n",
      "<div class=\"input-group-text\">\n",
      "<i class=\"icon-mail\"></i>\n",
      "</div>\n",
      "</div>\n",
      "<input class=\"form-control\" id=\"field_0\" name=\"field_0\" placeholder=\"email@example.com\" required=\"\" type=\"email\"/>\n",
      "<div class=\"input-group-append\">\n",
      "<button class=\"btn btn btn-dark\" type=\"submit\">\n",
      "                                    Join!\n",
      "                                </button>\n",
      "</div>\n",
      "</div>\n",
      "<div class=\"emailoctopus-form-row-consent custom-control custom-switch\">\n",
      "<input class=\"custom-control-input\" id=\"consent\" name=\"consent\" required=\"\" type=\"checkbox\"/>\n",
      "<label class=\"custom-control-label\" for=\"consent\">\n",
      "                                Yes, sign me up!\n",
      "                            </label>\n",
      "</div>\n",
      "<div aria-hidden=\"true\" class=\"emailoctopus-form-row-hp d-none\">\n",
      "<input autocomplete=\"nope\" name=\"hpc4b27b6e-eb38-11e9-be00-06b4694bee2a\" tabindex=\"-1\" type=\"text\"/>\n",
      "</div>\n",
      "</form>\n",
      "</div>\n",
      "</div>\n",
      "</div>\n",
      "</div>\n",
      "</div>\n",
      "</div>\n",
      "</div>\n",
      "</div>\n",
      "</div>\n",
      "</div>\n",
      "<div class=\"container border-top\">\n",
      "<div class=\"row mt-3 mb-3\">\n",
      "<div class=\"col\">\n",
      "            © Developer to Manager 2018 - 2021\n",
      "\n",
      "            <a class=\"btn\" href=\"https://twitter.com/devtomanager\" target=\"_blank\">\n",
      "<i class=\"icon-logo-twitter\"></i>\n",
      "</a>\n",
      "<a class=\"btn\" href=\"https://www.linkedin.com/company/developer-to-manager\" target=\"_blank\">\n",
      "<i class=\"icon-logo-linkedin\"></i>\n",
      "</a>\n",
      "</div>\n",
      "<div class=\"col text-right\">\n",
      "<span>Crafted with ♥️ in Munich</span>\n",
      "</div>\n",
      "</div>\n",
      "</div>\n",
      "<script async=\"\" data-domain=\"devtomanager.com\" src=\"https://plausible.io/js/plausible.js\">\n",
      "</script>\n",
      "<script async=\"\" src=\"/static/js/app.js\"></script>\n",
      "<script async=\"\" src=\"https://emailoctopus.com/bundles/emailoctopuslist/js/1.6/form-recaptcha.js\"></script>\n",
      "<script async=\"\" src=\"https://emailoctopus.com/bundles/emailoctopuslist/js/1.6/form-embed.js\"></script>\n",
      "</body>\n",
      "</html>\n"
     ]
    }
   ],
   "source": [
    "print(soup)"
   ]
  },
  {
   "cell_type": "code",
   "execution_count": 7,
   "id": "85dbdda0",
   "metadata": {},
   "outputs": [
    {
     "data": {
      "text/plain": [
       "[<title>\n",
       " Interviews with Software Managers | Developer to Manager\n",
       " </title>]"
      ]
     },
     "execution_count": 7,
     "metadata": {},
     "output_type": "execute_result"
    }
   ],
   "source": [
    "soup.find_all('title')"
   ]
  },
  {
   "cell_type": "markdown",
   "id": "337d9354",
   "metadata": {},
   "source": [
    "## 1. Employee Name"
   ]
  },
  {
   "cell_type": "code",
   "execution_count": 8,
   "id": "db19b14e",
   "metadata": {},
   "outputs": [
    {
     "data": {
      "text/plain": [
       "['Aviv Ben-Yosef', ' Tech Executive Consultant']"
      ]
     },
     "execution_count": 8,
     "metadata": {},
     "output_type": "execute_result"
    }
   ],
   "source": [
    "soup.select('h5.card-title')[0].text.strip().split(',')"
   ]
  },
  {
   "cell_type": "code",
   "execution_count": 9,
   "id": "b978a5c9",
   "metadata": {},
   "outputs": [
    {
     "data": {
      "text/plain": [
       "['Aviv Ben-Yosef', 'Anand Safi', 'Shawn Axsom', 'Kevin Doyle', 'Arnab Sen']"
      ]
     },
     "execution_count": 9,
     "metadata": {},
     "output_type": "execute_result"
    }
   ],
   "source": [
    "emp_name = [i.text.strip().split(',')[0] for i in soup.select('h5.card-title')]\n",
    "emp_name"
   ]
  },
  {
   "cell_type": "markdown",
   "id": "69edf5e8",
   "metadata": {},
   "source": [
    "## 2. Job Position"
   ]
  },
  {
   "cell_type": "code",
   "execution_count": 10,
   "id": "0978805f",
   "metadata": {},
   "outputs": [],
   "source": [
    "import re"
   ]
  },
  {
   "cell_type": "code",
   "execution_count": 11,
   "id": "8088a383",
   "metadata": {},
   "outputs": [
    {
     "name": "stdout",
     "output_type": "stream",
     "text": [
      "Aviv Ben-Yosef, Tech Executive Consultant\n",
      "Anand Safi, Engineering Manager at Mark43\n",
      "Shawn Axsom, Senior Engineering Manager at Docker\n",
      "Kevin Doyle, CTO at patientMpower\n",
      "Arnab Sen, Technical Delivery Manager at AKQA\n"
     ]
    }
   ],
   "source": [
    "for i in  soup.select('h5.card-title'):\n",
    "    print(i.text.strip())"
   ]
  },
  {
   "cell_type": "code",
   "execution_count": 12,
   "id": "d200f56b",
   "metadata": {},
   "outputs": [
    {
     "data": {
      "text/plain": [
       "[' Tech Executive Consultant',\n",
       " ' Engineering Manager',\n",
       " ' Senior Engineering Manager',\n",
       " ' CTO',\n",
       " ' Technical Delivery Manager']"
      ]
     },
     "execution_count": 12,
     "metadata": {},
     "output_type": "execute_result"
    }
   ],
   "source": [
    "job_pos = [re.split(',| at ',i.text.strip())[1] for i in soup.select('h5.card-title')]\n",
    "job_pos"
   ]
  },
  {
   "cell_type": "markdown",
   "id": "7f36a58b",
   "metadata": {},
   "source": [
    "## 3. Working (Company)"
   ]
  },
  {
   "cell_type": "code",
   "execution_count": 13,
   "id": "9474a791",
   "metadata": {},
   "outputs": [
    {
     "name": "stdout",
     "output_type": "stream",
     "text": [
      "2\n",
      "3\n",
      "3\n",
      "3\n",
      "3\n"
     ]
    }
   ],
   "source": [
    "for i in soup.select('h5.card-title'):\n",
    "    print(len(re.split(',| at ',i.text.strip())))"
   ]
  },
  {
   "cell_type": "code",
   "execution_count": 14,
   "id": "579b1194",
   "metadata": {},
   "outputs": [
    {
     "data": {
      "text/plain": [
       "['NIL', 'Mark43', 'Docker', 'patientMpower', 'AKQA']"
      ]
     },
     "execution_count": 14,
     "metadata": {},
     "output_type": "execute_result"
    }
   ],
   "source": [
    "company=[]\n",
    "for i in soup.select('h5.card-title'):\n",
    "    l= len(re.split(',| at ',i.text.strip()))\n",
    "    if l>2:\n",
    "        a= re.split(',| at ',i.text.strip())[2]\n",
    "        company.append(a)\n",
    "    \n",
    "    else:\n",
    "        company.append('NIL')\n",
    "company\n",
    "        "
   ]
  },
  {
   "cell_type": "markdown",
   "id": "6948357d",
   "metadata": {},
   "source": [
    "## 4. Interview quote"
   ]
  },
  {
   "cell_type": "code",
   "execution_count": 15,
   "id": "1717afc0",
   "metadata": {},
   "outputs": [
    {
     "data": {
      "text/plain": [
       "'“The switch to management can be highly rewarding and provide a level of independence, authority, and interactivity that a pure software engineering role may not offer.”'"
      ]
     },
     "execution_count": 15,
     "metadata": {},
     "output_type": "execute_result"
    }
   ],
   "source": [
    "soup.select('p.card-text')[8].text.strip()"
   ]
  },
  {
   "cell_type": "code",
   "execution_count": 16,
   "id": "0ed8e5eb",
   "metadata": {},
   "outputs": [
    {
     "data": {
      "text/plain": [
       "['“I want to set up managers to succeed, no matter how much background they’ve already got.”',\n",
       " '“I very well understand where my interests lie, which is being an enabler first and then a creator rather than being a creator/ maker 100%.”',\n",
       " '“Your focus (and challenges) grows from your direct reports, to teams, to departments, executives, and then external customers and partnerships.”',\n",
       " '“If I can provide enough direction to allow people to focus on the jobs they’ll do better than I ever could, everybody wins.”',\n",
       " '“The switch to management can be highly rewarding and provide a level of independence, authority, and interactivity that a pure software engineering role may not offer.”']"
      ]
     },
     "execution_count": 16,
     "metadata": {},
     "output_type": "execute_result"
    }
   ],
   "source": [
    "quote=[]\n",
    "m = len(emp_name)\n",
    "n = m-1\n",
    "\n",
    "for i in range(0,n*2+1):\n",
    "    if i%2==0:\n",
    "        quote.append(soup.select('p.card-text')[i].text.strip())\n",
    "quote    "
   ]
  },
  {
   "cell_type": "markdown",
   "id": "6ff7544b",
   "metadata": {},
   "source": [
    "## 5. Date"
   ]
  },
  {
   "cell_type": "code",
   "execution_count": 17,
   "id": "dc554547",
   "metadata": {},
   "outputs": [
    {
     "data": {
      "text/plain": [
       "[<p class=\"card-text\">\n",
       "                 “I want to set up managers to succeed, no matter how much background they’ve already got.”\n",
       "                 </p>,\n",
       " <p class=\"card-text\">\n",
       "                     August 16, 2021\n",
       "                     ·\n",
       "                     \n",
       "                     <strong class=\"mr-2\">\n",
       " <a class=\"text-reset\" href=\"/interviews/tag/coaching/\">\n",
       "                             #coaching\n",
       "                         </a>\n",
       " </strong>\n",
       " <strong class=\"mr-2\">\n",
       " <a class=\"text-reset\" href=\"/interviews/tag/consulting/\">\n",
       "                             #consulting\n",
       "                         </a>\n",
       " </strong>\n",
       " </p>,\n",
       " <p class=\"card-text\">\n",
       "                 “I very well understand where my interests lie, which is being an enabler first and then a creator rather than being a creator/ maker 100%.”\n",
       "                 </p>,\n",
       " <p class=\"card-text\">\n",
       "                     July 19, 2021\n",
       "                     ·\n",
       "                     \n",
       "                     <strong class=\"mr-2\">\n",
       " <a class=\"text-reset\" href=\"/interviews/tag/coaching/\">\n",
       "                             #coaching\n",
       "                         </a>\n",
       " </strong>\n",
       " <strong class=\"mr-2\">\n",
       " <a class=\"text-reset\" href=\"/interviews/tag/frontend/\">\n",
       "                             #frontend\n",
       "                         </a>\n",
       " </strong>\n",
       " <strong class=\"mr-2\">\n",
       " <a class=\"text-reset\" href=\"/interviews/tag/full-stack/\">\n",
       "                             #full-stack\n",
       "                         </a>\n",
       " </strong>\n",
       " <strong class=\"mr-2\">\n",
       " <a class=\"text-reset\" href=\"/interviews/tag/public-safety/\">\n",
       "                             #public-safety\n",
       "                         </a>\n",
       " </strong>\n",
       " </p>,\n",
       " <p class=\"card-text\">\n",
       "                 “Your focus (and challenges) grows from your direct reports, to teams, to departments, executives, and then external customers and partnerships.”\n",
       "                 </p>,\n",
       " <p class=\"card-text\">\n",
       "                     July 05, 2021\n",
       "                     ·\n",
       "                     \n",
       "                     <strong class=\"mr-2\">\n",
       " <a class=\"text-reset\" href=\"/interviews/tag/backend/\">\n",
       "                             #backend\n",
       "                         </a>\n",
       " </strong>\n",
       " <strong class=\"mr-2\">\n",
       " <a class=\"text-reset\" href=\"/interviews/tag/coaching/\">\n",
       "                             #coaching\n",
       "                         </a>\n",
       " </strong>\n",
       " <strong class=\"mr-2\">\n",
       " <a class=\"text-reset\" href=\"/interviews/tag/information-systems/\">\n",
       "                             #information-systems\n",
       "                         </a>\n",
       " </strong>\n",
       " <strong class=\"mr-2\">\n",
       " <a class=\"text-reset\" href=\"/interviews/tag/web/\">\n",
       "                             #web\n",
       "                         </a>\n",
       " </strong>\n",
       " </p>,\n",
       " <p class=\"card-text\">\n",
       "                 “If I can provide enough direction to allow people to focus on the jobs they’ll do better than I ever could, everybody wins.”\n",
       "                 </p>,\n",
       " <p class=\"card-text\">\n",
       "                     June 21, 2021\n",
       "                     ·\n",
       "                     \n",
       "                     <strong class=\"mr-2\">\n",
       " <a class=\"text-reset\" href=\"/interviews/tag/full-stack/\">\n",
       "                             #full-stack\n",
       "                         </a>\n",
       " </strong>\n",
       " <strong class=\"mr-2\">\n",
       " <a class=\"text-reset\" href=\"/interviews/tag/health-tech/\">\n",
       "                             #health-tech\n",
       "                         </a>\n",
       " </strong>\n",
       " </p>,\n",
       " <p class=\"card-text\">\n",
       "                 “The switch to management can be highly rewarding and provide a level of independence, authority, and interactivity that a pure software engineering role may not offer.”\n",
       "                 </p>,\n",
       " <p class=\"card-text\">\n",
       "                     May 10, 2021\n",
       "                     ·\n",
       "                     \n",
       "                     <strong class=\"mr-2\">\n",
       " <a class=\"text-reset\" href=\"/interviews/tag/consulting/\">\n",
       "                             #consulting\n",
       "                         </a>\n",
       " </strong>\n",
       " <strong class=\"mr-2\">\n",
       " <a class=\"text-reset\" href=\"/interviews/tag/digital-marketing/\">\n",
       "                             #digital-marketing\n",
       "                         </a>\n",
       " </strong>\n",
       " <strong class=\"mr-2\">\n",
       " <a class=\"text-reset\" href=\"/interviews/tag/e-commerce/\">\n",
       "                             #e-commerce\n",
       "                         </a>\n",
       " </strong>\n",
       " <strong class=\"mr-2\">\n",
       " <a class=\"text-reset\" href=\"/interviews/tag/product/\">\n",
       "                             #product\n",
       "                         </a>\n",
       " </strong>\n",
       " </p>]"
      ]
     },
     "execution_count": 17,
     "metadata": {},
     "output_type": "execute_result"
    }
   ],
   "source": [
    "soup.select('p.card-text')"
   ]
  },
  {
   "cell_type": "code",
   "execution_count": 18,
   "id": "a6f3dd2b",
   "metadata": {},
   "outputs": [
    {
     "data": {
      "text/plain": [
       "'August 16, 2021'"
      ]
     },
     "execution_count": 18,
     "metadata": {},
     "output_type": "execute_result"
    }
   ],
   "source": [
    "soup.select('p.card-text')[1].text.strip().split('\\n')[0]"
   ]
  },
  {
   "cell_type": "code",
   "execution_count": 19,
   "id": "e8946c5b",
   "metadata": {},
   "outputs": [
    {
     "data": {
      "text/plain": [
       "'July 19, 2021'"
      ]
     },
     "execution_count": 19,
     "metadata": {},
     "output_type": "execute_result"
    }
   ],
   "source": [
    "soup.select('p.card-text')[3].text.strip().split('\\n')[0]"
   ]
  },
  {
   "cell_type": "code",
   "execution_count": 20,
   "id": "41b15701",
   "metadata": {},
   "outputs": [
    {
     "data": {
      "text/plain": [
       "'July 05, 2021'"
      ]
     },
     "execution_count": 20,
     "metadata": {},
     "output_type": "execute_result"
    }
   ],
   "source": [
    "soup.select('p.card-text')[5].text.strip().split('\\n')[0]"
   ]
  },
  {
   "cell_type": "code",
   "execution_count": 21,
   "id": "64b681f7",
   "metadata": {},
   "outputs": [
    {
     "data": {
      "text/plain": [
       "'May 10, 2021'"
      ]
     },
     "execution_count": 21,
     "metadata": {},
     "output_type": "execute_result"
    }
   ],
   "source": [
    "soup.select('p.card-text')[9].text.strip().split('\\n')[0]"
   ]
  },
  {
   "cell_type": "code",
   "execution_count": 22,
   "id": "f171a063",
   "metadata": {},
   "outputs": [
    {
     "data": {
      "text/plain": [
       "['August 16, 2021',\n",
       " 'July 19, 2021',\n",
       " 'July 05, 2021',\n",
       " 'June 21, 2021',\n",
       " 'May 10, 2021']"
      ]
     },
     "execution_count": 22,
     "metadata": {},
     "output_type": "execute_result"
    }
   ],
   "source": [
    "date=[]\n",
    "a = len(emp_name)\n",
    "\n",
    "\n",
    "for i in range(0,a*2):\n",
    "    if i%2!=0:\n",
    "        date.append(soup.select('p.card-text')[i].text.strip().split('\\n')[0])\n",
    "        \n",
    "date"
   ]
  },
  {
   "cell_type": "markdown",
   "id": "d5803077",
   "metadata": {},
   "source": [
    "## 6. Tags"
   ]
  },
  {
   "cell_type": "code",
   "execution_count": 23,
   "id": "c420ccf6",
   "metadata": {
    "scrolled": true
   },
   "outputs": [
    {
     "data": {
      "text/plain": [
       "'August 16, 2021\\n                    ·\\n                    \\n                    \\n\\n                            #coaching\\n                        \\n\\n\\n\\n                            #consulting'"
      ]
     },
     "execution_count": 23,
     "metadata": {},
     "output_type": "execute_result"
    }
   ],
   "source": [
    "soup.select('p.card-text')[1].text.strip()"
   ]
  },
  {
   "cell_type": "code",
   "execution_count": 24,
   "id": "bc2fb39b",
   "metadata": {},
   "outputs": [
    {
     "data": {
      "text/plain": [
       "'August 16, 2021                    ·                                                                    #coaching                                                    #consulting'"
      ]
     },
     "execution_count": 24,
     "metadata": {},
     "output_type": "execute_result"
    }
   ],
   "source": [
    "soup.select('p.card-text')[1].text.strip().replace('\\n','')"
   ]
  },
  {
   "cell_type": "code",
   "execution_count": 25,
   "id": "9e79c734",
   "metadata": {},
   "outputs": [
    {
     "data": {
      "text/plain": [
       "'August16,2021·#coaching#consulting'"
      ]
     },
     "execution_count": 25,
     "metadata": {},
     "output_type": "execute_result"
    }
   ],
   "source": [
    "soup.select('p.card-text')[1].text.strip().replace('\\n','').replace(' ','')"
   ]
  },
  {
   "cell_type": "code",
   "execution_count": 26,
   "id": "c58ed9ae",
   "metadata": {},
   "outputs": [
    {
     "data": {
      "text/plain": [
       "['August16,2021·', 'coaching', 'consulting']"
      ]
     },
     "execution_count": 26,
     "metadata": {},
     "output_type": "execute_result"
    }
   ],
   "source": [
    "soup.select('p.card-text')[1].text.strip().replace('\\n','').replace(' ','').split('#')"
   ]
  },
  {
   "cell_type": "code",
   "execution_count": 27,
   "id": "8cf25903",
   "metadata": {},
   "outputs": [
    {
     "data": {
      "text/plain": [
       "['consulting', 'digital-marketing', 'e-commerce', 'product']"
      ]
     },
     "execution_count": 27,
     "metadata": {},
     "output_type": "execute_result"
    }
   ],
   "source": [
    "soup.select('p.card-text')[9].text.strip().replace('\\n','').replace(' ','').split('#')[1:]"
   ]
  },
  {
   "cell_type": "code",
   "execution_count": 28,
   "id": "7a242802",
   "metadata": {},
   "outputs": [
    {
     "data": {
      "text/plain": [
       "[['coaching', 'consulting'],\n",
       " ['coaching', 'frontend', 'full-stack', 'public-safety'],\n",
       " ['backend', 'coaching', 'information-systems', 'web'],\n",
       " ['full-stack', 'health-tech'],\n",
       " ['consulting', 'digital-marketing', 'e-commerce', 'product']]"
      ]
     },
     "execution_count": 28,
     "metadata": {},
     "output_type": "execute_result"
    }
   ],
   "source": [
    "tag=[]\n",
    "b = len(emp_name)\n",
    "\n",
    "for i in range(0,b*2):\n",
    "    if i%2!=0:\n",
    "        tag.append(soup.select('p.card-text')[i].text.strip().replace('\\n','').replace(' ','').split('#')[1:])\n",
    "        \n",
    "tag"
   ]
  },
  {
   "cell_type": "code",
   "execution_count": null,
   "id": "c5432e39",
   "metadata": {},
   "outputs": [],
   "source": []
  },
  {
   "cell_type": "markdown",
   "id": "7f6a4c55",
   "metadata": {},
   "source": [
    "## Function to to scrape 1st page"
   ]
  },
  {
   "cell_type": "code",
   "execution_count": 29,
   "id": "ca10b3c0",
   "metadata": {},
   "outputs": [],
   "source": [
    "import pandas as pd"
   ]
  },
  {
   "cell_type": "code",
   "execution_count": 30,
   "id": "31b6a88a",
   "metadata": {},
   "outputs": [],
   "source": [
    "def interview(soup):\n",
    "    emp_name = [i.text.strip().split(',')[0] for i in soup.select('h5.card-title')]\n",
    "    job_pos = [re.split(',| at ',i.text.strip())[1] for i in soup.select('h5.card-title')]\n",
    "    \n",
    "    company=[]  #scrap company\n",
    "    for i in soup.select('h5.card-title'):\n",
    "        l= len(re.split(',| at ',i.text.strip()))\n",
    "        if l>2:\n",
    "            a= re.split(',| at ',i.text.strip())[2]\n",
    "            company.append(a)\n",
    "    \n",
    "        else:\n",
    "            company.append('NIL')\n",
    "    \n",
    "    quote=[] #scrap quote\n",
    "    m = len(emp_name)\n",
    "    n = m-1\n",
    "\n",
    "    for i in range(0,n*2+1):\n",
    "        if i%2==0:\n",
    "            quote.append(soup.select('p.card-text')[i].text.strip())\n",
    "    \n",
    "    date=[]\n",
    "    a = len(emp_name)\n",
    "\n",
    "    for i in range(0,a*2):\n",
    "        if i%2!=0:\n",
    "            date.append(soup.select('p.card-text')[i].text.strip().split('\\n')[0])\n",
    "        \n",
    "    tag=[]\n",
    "    b = len(emp_name)\n",
    "\n",
    "    for i in range(0,b*2):\n",
    "        if i%2!=0:\n",
    "            tag.append(soup.select('p.card-text')[i].text.strip().replace('\\n','').replace(' ','').split('#')[1:])\n",
    "            \n",
    "    return pd.DataFrame({\"Employee Name\":emp_name,'Job Position':job_pos,\"Company\":company,\"Interview quote\":quote,\"Date\":date,\"Tags\":tag})"
   ]
  },
  {
   "cell_type": "code",
   "execution_count": 31,
   "id": "9364d577",
   "metadata": {},
   "outputs": [],
   "source": [
    "intw=interview(soup)"
   ]
  },
  {
   "cell_type": "code",
   "execution_count": 32,
   "id": "0ed0e11a",
   "metadata": {},
   "outputs": [
    {
     "data": {
      "text/html": [
       "<div>\n",
       "<style scoped>\n",
       "    .dataframe tbody tr th:only-of-type {\n",
       "        vertical-align: middle;\n",
       "    }\n",
       "\n",
       "    .dataframe tbody tr th {\n",
       "        vertical-align: top;\n",
       "    }\n",
       "\n",
       "    .dataframe thead th {\n",
       "        text-align: right;\n",
       "    }\n",
       "</style>\n",
       "<table border=\"1\" class=\"dataframe\">\n",
       "  <thead>\n",
       "    <tr style=\"text-align: right;\">\n",
       "      <th></th>\n",
       "      <th>Employee Name</th>\n",
       "      <th>Job Position</th>\n",
       "      <th>Company</th>\n",
       "      <th>Interview quote</th>\n",
       "      <th>Date</th>\n",
       "      <th>Tags</th>\n",
       "    </tr>\n",
       "  </thead>\n",
       "  <tbody>\n",
       "    <tr>\n",
       "      <th>0</th>\n",
       "      <td>Aviv Ben-Yosef</td>\n",
       "      <td>Tech Executive Consultant</td>\n",
       "      <td>NIL</td>\n",
       "      <td>“I want to set up managers to succeed, no matt...</td>\n",
       "      <td>August 16, 2021</td>\n",
       "      <td>[coaching, consulting]</td>\n",
       "    </tr>\n",
       "    <tr>\n",
       "      <th>1</th>\n",
       "      <td>Anand Safi</td>\n",
       "      <td>Engineering Manager</td>\n",
       "      <td>Mark43</td>\n",
       "      <td>“I very well understand where my interests lie...</td>\n",
       "      <td>July 19, 2021</td>\n",
       "      <td>[coaching, frontend, full-stack, public-safety]</td>\n",
       "    </tr>\n",
       "    <tr>\n",
       "      <th>2</th>\n",
       "      <td>Shawn Axsom</td>\n",
       "      <td>Senior Engineering Manager</td>\n",
       "      <td>Docker</td>\n",
       "      <td>“Your focus (and challenges) grows from your d...</td>\n",
       "      <td>July 05, 2021</td>\n",
       "      <td>[backend, coaching, information-systems, web]</td>\n",
       "    </tr>\n",
       "    <tr>\n",
       "      <th>3</th>\n",
       "      <td>Kevin Doyle</td>\n",
       "      <td>CTO</td>\n",
       "      <td>patientMpower</td>\n",
       "      <td>“If I can provide enough direction to allow pe...</td>\n",
       "      <td>June 21, 2021</td>\n",
       "      <td>[full-stack, health-tech]</td>\n",
       "    </tr>\n",
       "    <tr>\n",
       "      <th>4</th>\n",
       "      <td>Arnab Sen</td>\n",
       "      <td>Technical Delivery Manager</td>\n",
       "      <td>AKQA</td>\n",
       "      <td>“The switch to management can be highly reward...</td>\n",
       "      <td>May 10, 2021</td>\n",
       "      <td>[consulting, digital-marketing, e-commerce, pr...</td>\n",
       "    </tr>\n",
       "  </tbody>\n",
       "</table>\n",
       "</div>"
      ],
      "text/plain": [
       "    Employee Name                 Job Position        Company  \\\n",
       "0  Aviv Ben-Yosef    Tech Executive Consultant            NIL   \n",
       "1      Anand Safi          Engineering Manager         Mark43   \n",
       "2     Shawn Axsom   Senior Engineering Manager         Docker   \n",
       "3     Kevin Doyle                          CTO  patientMpower   \n",
       "4       Arnab Sen   Technical Delivery Manager           AKQA   \n",
       "\n",
       "                                     Interview quote             Date  \\\n",
       "0  “I want to set up managers to succeed, no matt...  August 16, 2021   \n",
       "1  “I very well understand where my interests lie...    July 19, 2021   \n",
       "2  “Your focus (and challenges) grows from your d...    July 05, 2021   \n",
       "3  “If I can provide enough direction to allow pe...    June 21, 2021   \n",
       "4  “The switch to management can be highly reward...     May 10, 2021   \n",
       "\n",
       "                                                Tags  \n",
       "0                             [coaching, consulting]  \n",
       "1    [coaching, frontend, full-stack, public-safety]  \n",
       "2      [backend, coaching, information-systems, web]  \n",
       "3                          [full-stack, health-tech]  \n",
       "4  [consulting, digital-marketing, e-commerce, pr...  "
      ]
     },
     "execution_count": 32,
     "metadata": {},
     "output_type": "execute_result"
    }
   ],
   "source": [
    "intw"
   ]
  },
  {
   "cell_type": "code",
   "execution_count": 33,
   "id": "f6537799",
   "metadata": {},
   "outputs": [],
   "source": [
    "page = 'https://devtomanager.com/interviews/page/{}/'"
   ]
  },
  {
   "cell_type": "code",
   "execution_count": 34,
   "id": "204305c8",
   "metadata": {},
   "outputs": [
    {
     "data": {
      "text/plain": [
       "'https://devtomanager.com/interviews/page/3/'"
      ]
     },
     "execution_count": 34,
     "metadata": {},
     "output_type": "execute_result"
    }
   ],
   "source": [
    "page.format(3)"
   ]
  },
  {
   "cell_type": "code",
   "execution_count": 35,
   "id": "cb27f5ac",
   "metadata": {},
   "outputs": [],
   "source": [
    "from tqdm import tqdm\n",
    "import time"
   ]
  },
  {
   "cell_type": "code",
   "execution_count": 36,
   "id": "1689384e",
   "metadata": {},
   "outputs": [
    {
     "name": "stderr",
     "output_type": "stream",
     "text": [
      "100%|████████████████████████████████████████████████████████████████████████████████████| 5/5 [00:26<00:00,  5.25s/it]\n"
     ]
    }
   ],
   "source": [
    "tables1=[]\n",
    "for i in tqdm(range(1,6)):\n",
    "    url_all = page.format(i)\n",
    "    html_all = requests.get(url_all).text\n",
    "    time.sleep(5)\n",
    "    soup = BeautifulSoup(html_all,'html.parser')\n",
    "    tables1.append(interview(soup))"
   ]
  },
  {
   "cell_type": "code",
   "execution_count": 37,
   "id": "9b18db70",
   "metadata": {},
   "outputs": [
    {
     "data": {
      "text/html": [
       "<div>\n",
       "<style scoped>\n",
       "    .dataframe tbody tr th:only-of-type {\n",
       "        vertical-align: middle;\n",
       "    }\n",
       "\n",
       "    .dataframe tbody tr th {\n",
       "        vertical-align: top;\n",
       "    }\n",
       "\n",
       "    .dataframe thead th {\n",
       "        text-align: right;\n",
       "    }\n",
       "</style>\n",
       "<table border=\"1\" class=\"dataframe\">\n",
       "  <thead>\n",
       "    <tr style=\"text-align: right;\">\n",
       "      <th></th>\n",
       "      <th>Employee Name</th>\n",
       "      <th>Job Position</th>\n",
       "      <th>Company</th>\n",
       "      <th>Interview quote</th>\n",
       "      <th>Date</th>\n",
       "      <th>Tags</th>\n",
       "    </tr>\n",
       "  </thead>\n",
       "  <tbody>\n",
       "    <tr>\n",
       "      <th>0</th>\n",
       "      <td>Aviv Ben-Yosef</td>\n",
       "      <td>Tech Executive Consultant</td>\n",
       "      <td>NIL</td>\n",
       "      <td>“I want to set up managers to succeed, no matt...</td>\n",
       "      <td>August 16, 2021</td>\n",
       "      <td>[coaching, consulting]</td>\n",
       "    </tr>\n",
       "    <tr>\n",
       "      <th>1</th>\n",
       "      <td>Anand Safi</td>\n",
       "      <td>Engineering Manager</td>\n",
       "      <td>Mark43</td>\n",
       "      <td>“I very well understand where my interests lie...</td>\n",
       "      <td>July 19, 2021</td>\n",
       "      <td>[coaching, frontend, full-stack, public-safety]</td>\n",
       "    </tr>\n",
       "    <tr>\n",
       "      <th>2</th>\n",
       "      <td>Shawn Axsom</td>\n",
       "      <td>Senior Engineering Manager</td>\n",
       "      <td>Docker</td>\n",
       "      <td>“Your focus (and challenges) grows from your d...</td>\n",
       "      <td>July 05, 2021</td>\n",
       "      <td>[backend, coaching, information-systems, web]</td>\n",
       "    </tr>\n",
       "    <tr>\n",
       "      <th>3</th>\n",
       "      <td>Kevin Doyle</td>\n",
       "      <td>CTO</td>\n",
       "      <td>patientMpower</td>\n",
       "      <td>“If I can provide enough direction to allow pe...</td>\n",
       "      <td>June 21, 2021</td>\n",
       "      <td>[full-stack, health-tech]</td>\n",
       "    </tr>\n",
       "    <tr>\n",
       "      <th>4</th>\n",
       "      <td>Arnab Sen</td>\n",
       "      <td>Technical Delivery Manager</td>\n",
       "      <td>AKQA</td>\n",
       "      <td>“The switch to management can be highly reward...</td>\n",
       "      <td>May 10, 2021</td>\n",
       "      <td>[consulting, digital-marketing, e-commerce, pr...</td>\n",
       "    </tr>\n",
       "  </tbody>\n",
       "</table>\n",
       "</div>"
      ],
      "text/plain": [
       "    Employee Name                 Job Position        Company  \\\n",
       "0  Aviv Ben-Yosef    Tech Executive Consultant            NIL   \n",
       "1      Anand Safi          Engineering Manager         Mark43   \n",
       "2     Shawn Axsom   Senior Engineering Manager         Docker   \n",
       "3     Kevin Doyle                          CTO  patientMpower   \n",
       "4       Arnab Sen   Technical Delivery Manager           AKQA   \n",
       "\n",
       "                                     Interview quote             Date  \\\n",
       "0  “I want to set up managers to succeed, no matt...  August 16, 2021   \n",
       "1  “I very well understand where my interests lie...    July 19, 2021   \n",
       "2  “Your focus (and challenges) grows from your d...    July 05, 2021   \n",
       "3  “If I can provide enough direction to allow pe...    June 21, 2021   \n",
       "4  “The switch to management can be highly reward...     May 10, 2021   \n",
       "\n",
       "                                                Tags  \n",
       "0                             [coaching, consulting]  \n",
       "1    [coaching, frontend, full-stack, public-safety]  \n",
       "2      [backend, coaching, information-systems, web]  \n",
       "3                          [full-stack, health-tech]  \n",
       "4  [consulting, digital-marketing, e-commerce, pr...  "
      ]
     },
     "execution_count": 37,
     "metadata": {},
     "output_type": "execute_result"
    }
   ],
   "source": [
    "data = pd.concat(tables1,axis=0)\n",
    "data.head()"
   ]
  },
  {
   "cell_type": "code",
   "execution_count": 38,
   "id": "ac94f8c8",
   "metadata": {},
   "outputs": [
    {
     "data": {
      "text/plain": [
       "(25, 6)"
      ]
     },
     "execution_count": 38,
     "metadata": {},
     "output_type": "execute_result"
    }
   ],
   "source": [
    "data.shape"
   ]
  },
  {
   "cell_type": "code",
   "execution_count": 39,
   "id": "76a95a87",
   "metadata": {},
   "outputs": [],
   "source": [
    "data.to_csv(\"Interview Quotes.csv\")"
   ]
  },
  {
   "cell_type": "code",
   "execution_count": null,
   "id": "271cddde",
   "metadata": {},
   "outputs": [],
   "source": []
  },
  {
   "cell_type": "code",
   "execution_count": null,
   "id": "5dfd3773",
   "metadata": {},
   "outputs": [],
   "source": []
  }
 ],
 "metadata": {
  "kernelspec": {
   "display_name": "Python 3",
   "language": "python",
   "name": "python3"
  },
  "language_info": {
   "codemirror_mode": {
    "name": "ipython",
    "version": 3
   },
   "file_extension": ".py",
   "mimetype": "text/x-python",
   "name": "python",
   "nbconvert_exporter": "python",
   "pygments_lexer": "ipython3",
   "version": "3.8.8"
  }
 },
 "nbformat": 4,
 "nbformat_minor": 5
}
